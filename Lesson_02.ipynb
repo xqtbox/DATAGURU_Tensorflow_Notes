{
 "cells": [
  {
   "cell_type": "markdown",
   "metadata": {},
   "source": [
    "## 1 基本概念\n",
    "\n",
    "- 使用图（graph）表示计算任务； 使用会话（session）启动并执行图中的计算；\n",
    "- 使用变量（Variable），并且在使用之前需要会话激活变量。"
   ]
  },
  {
   "cell_type": "code",
   "execution_count": 1,
   "metadata": {
    "collapsed": true
   },
   "outputs": [],
   "source": [
    "# 导入tensorflow模块\n",
    "import tensorflow as tf"
   ]
  },
  {
   "cell_type": "markdown",
   "metadata": {},
   "source": [
    "## 2 展示理解seesion的用法"
   ]
  },
  {
   "cell_type": "markdown",
   "metadata": {},
   "source": [
    "- 因为tensorflow需要使用会话（session）启动并执行图中的计算；所以直接print不能真正的运算，下面展示错误用法："
   ]
  },
  {
   "cell_type": "code",
   "execution_count": 2,
   "metadata": {
    "collapsed": false
   },
   "outputs": [
    {
     "name": "stdout",
     "output_type": "stream",
     "text": [
      "Tensor(\"MatMul:0\", shape=(1, 1), dtype=int32)\n"
     ]
    }
   ],
   "source": [
    "x = tf.constant([[2,3]]) #建立一個常數矩陣 x\n",
    "y = tf.constant([[2],[2]]) #建立一個常數矩陣 y\n",
    "z = tf.matmul(x, y) #在tensorflow中，這行並沒有計算z\n",
    "print(z)"
   ]
  },
  {
   "cell_type": "markdown",
   "metadata": {},
   "source": [
    "- 正確的tensorflow计算方式：\n",
    "tensorflow 中的计算，必须使用 Session 來执行，下面展示正确用法：\n"
   ]
  },
  {
   "cell_type": "code",
   "execution_count": 5,
   "metadata": {
    "collapsed": false
   },
   "outputs": [
    {
     "name": "stdout",
     "output_type": "stream",
     "text": [
      "[[10]]\n"
     ]
    }
   ],
   "source": [
    "x = tf.constant([[2,3]])\n",
    "y = tf.constant([[2],[2]])\n",
    "z = tf.matmul(x, y)\n",
    "with tf.Session() as sess:\n",
    "    result = sess.run(z)\n",
    "    print(result)"
   ]
  },
  {
   "cell_type": "markdown",
   "metadata": {},
   "source": [
    "## 3 Tensorflow 中 Variable 的使用\n",
    "- 使用变量（Variable），并且在使用之前需要会话激活变量。"
   ]
  },
  {
   "cell_type": "code",
   "execution_count": 6,
   "metadata": {
    "collapsed": false
   },
   "outputs": [
    {
     "name": "stdout",
     "output_type": "stream",
     "text": [
      "[-7 -5]\n",
      "[9 9]\n"
     ]
    }
   ],
   "source": [
    "# tensorflow 变量的使用\n",
    "x = tf.Variable([1,2])  #定义一个变量 x\n",
    "a = tf.constant([8,7])\n",
    "sub = tf.subtract(x,a)  #sub 是一个減法的 operator\n",
    "add = tf.add(x,a) #add 是一个加法的 operator\n",
    "\n",
    "#注意，在tensorflow中，执行变量之前，必須先初始化；初始化分为两步：\n",
    "init = tf.global_variables_initializer()# 第一步：定义一个初始化“标识”\n",
    "\n",
    "with tf.Session() as sess:\n",
    "    sess.run(init) # 第二步：用会话正式初始化\n",
    "    result = sess.run(sub)\n",
    "    print(result)\n",
    "    result = sess.run(add)\n",
    "    print(result)"
   ]
  },
  {
   "cell_type": "markdown",
   "metadata": {},
   "source": [
    "- 一个小例子，tensorflow计数器：\n",
    "\n",
    "#当sess執行 update 时，会將 current 指定給 state\n",
    "\n",
    "#当執行 assign 时，將state + 1\n",
    "\n",
    "#如果直接 print(state)不会显示变量的值，必须使用会话的run方法 print(sess.run(state))"
   ]
  },
  {
   "cell_type": "code",
   "execution_count": 13,
   "metadata": {
    "collapsed": false
   },
   "outputs": [
    {
     "name": "stdout",
     "output_type": "stream",
     "text": [
      "初始值为： 0\n",
      "1\n",
      "2\n",
      "3\n",
      "4\n",
      "5\n"
     ]
    }
   ],
   "source": [
    "state = tf.Variable(0, name = 'state') #建立一個变量，初始化為0，名字为state（后面学习可视化 name会有用）\n",
    "current = tf.add(state, 1) #建立一個operator ，其為 state + 1\n",
    "#tensorflow 中的变量赋值，很复杂，不能直接用“=”赋值。必須透過 \"賦值\"方法assign（）\n",
    "update = tf.assign(state, current) # state <- current\n",
    "#注意只要在 tensorflow 中有使用变量的話，就要定义变量初始化 operator\n",
    "init = tf.global_variables_initializer()\n",
    "with tf.Session() as sess:\n",
    "    sess.run(init) # 量初始化\n",
    "    print('初始值为：',sess.run(state)) #列印初始值\n",
    "    for _ in range(5):\n",
    "        sess.run(update)\n",
    "        print(sess.run(state))"
   ]
  },
  {
   "cell_type": "code",
   "execution_count": null,
   "metadata": {
    "collapsed": true
   },
   "outputs": [],
   "source": []
  }
 ],
 "metadata": {
  "kernelspec": {
   "display_name": "Python 3",
   "language": "python",
   "name": "python3"
  },
  "language_info": {
   "codemirror_mode": {
    "name": "ipython",
    "version": 3
   },
   "file_extension": ".py",
   "mimetype": "text/x-python",
   "name": "python",
   "nbconvert_exporter": "python",
   "pygments_lexer": "ipython3",
   "version": "3.6.0"
  }
 },
 "nbformat": 4,
 "nbformat_minor": 2
}
